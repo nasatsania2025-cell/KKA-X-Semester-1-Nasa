{
  "nbformat": 4,
  "nbformat_minor": 0,
  "metadata": {
    "colab": {
      "provenance": [],
      "include_colab_link": true
    },
    "kernelspec": {
      "name": "python3",
      "display_name": "Python 3"
    },
    "language_info": {
      "name": "python"
    }
  },
  "cells": [
    {
      "cell_type": "markdown",
      "metadata": {
        "id": "view-in-github",
        "colab_type": "text"
      },
      "source": [
        "<a href=\"https://colab.research.google.com/github/nasatsania2025-cell/KKA-X-Semester-1-Nasa/blob/main/1_Fungsi_Print_Nasa_Tsania_X_1.ipynb\" target=\"_parent\"><img src=\"https://colab.research.google.com/assets/colab-badge.svg\" alt=\"Open In Colab\"/></a>"
      ]
    },
    {
      "cell_type": "markdown",
      "source": [
        "Nama : Nasa Tsania Putri Azzahra\n",
        "\n",
        "Kelas : X.1\n",
        "\n",
        "Absen : 21"
      ],
      "metadata": {
        "id": "X1rBkrst3c0h"
      }
    },
    {
      "cell_type": "markdown",
      "source": [
        "#Menampilkan Teks Bebas"
      ],
      "metadata": {
        "id": "Ztamhh9a3sPq"
      }
    },
    {
      "cell_type": "code",
      "source": [
        "print(\"Nasa Tsania Putri Azzahra\")"
      ],
      "metadata": {
        "colab": {
          "base_uri": "https://localhost:8080/"
        },
        "id": "98Nxf0z-5hKi",
        "outputId": "8bcb7a2b-de43-444b-9875-6a2f7be5cd86"
      },
      "execution_count": null,
      "outputs": [
        {
          "output_type": "stream",
          "name": "stdout",
          "text": [
            "Nasa Tsania Putri Azzahra\n"
          ]
        }
      ]
    },
    {
      "cell_type": "markdown",
      "source": [
        "#Menampilkan Nilai Variabel"
      ],
      "metadata": {
        "id": "Bc29l5i_5jCf"
      }
    },
    {
      "cell_type": "code",
      "source": [
        "nama_idola = \"Affan Faisal\"\n",
        "print(nama_idola)"
      ],
      "metadata": {
        "colab": {
          "base_uri": "https://localhost:8080/"
        },
        "id": "g8K1dnCX5rYT",
        "outputId": "a4cb1830-cdbd-405d-9237-31b7f6e44f4d"
      },
      "execution_count": null,
      "outputs": [
        {
          "output_type": "stream",
          "name": "stdout",
          "text": [
            "Affan Faisal\n"
          ]
        }
      ]
    },
    {
      "cell_type": "code",
      "source": [
        "usia = 15\n",
        "print(usia)"
      ],
      "metadata": {
        "colab": {
          "base_uri": "https://localhost:8080/"
        },
        "id": "T6_WqUgr7XZv",
        "outputId": "e9315837-e66f-4e29-a51a-0a14bdb2f160"
      },
      "execution_count": null,
      "outputs": [
        {
          "output_type": "stream",
          "name": "stdout",
          "text": [
            "15\n"
          ]
        }
      ]
    },
    {
      "cell_type": "code",
      "source": [
        "Latihan Soal:\n",
        "1.Buat variabel nama saudara & tampilkan\n",
        "2.Buat variabel jumlah saudara & tampilkan"
      ],
      "metadata": {
        "id": "QKtEysuu7weN"
      },
      "execution_count": null,
      "outputs": []
    },
    {
      "cell_type": "code",
      "source": [
        "nama_saudara = \"Sobrina Aisya Salsabila\"\n",
        "print(nama_saudara)"
      ],
      "metadata": {
        "colab": {
          "base_uri": "https://localhost:8080/"
        },
        "id": "H4fFZGaH8Wby",
        "outputId": "d0c8c1af-99f0-4809-9830-e84a956dcb75"
      },
      "execution_count": null,
      "outputs": [
        {
          "output_type": "stream",
          "name": "stdout",
          "text": [
            "Sobrina Aisya Salsabila\n"
          ]
        }
      ]
    },
    {
      "cell_type": "code",
      "source": [
        "jumlah_saudara = 2\n",
        "print(jumlah_saudara)"
      ],
      "metadata": {
        "colab": {
          "base_uri": "https://localhost:8080/"
        },
        "id": "zl9WP-pq8qdS",
        "outputId": "a07b079a-2064-474b-e4b8-7768ed8ef384"
      },
      "execution_count": null,
      "outputs": [
        {
          "output_type": "stream",
          "name": "stdout",
          "text": [
            "2\n"
          ]
        }
      ]
    },
    {
      "cell_type": "markdown",
      "source": [
        "#Menampilkan Nilai Variabel dan String"
      ],
      "metadata": {
        "id": "gVgXF6Sd3kc3"
      }
    },
    {
      "cell_type": "code",
      "source": [
        "print(\"Nama idola saya adalah\",nama_idola,\".Usianya adalah\",usia,\"tahun.\")"
      ],
      "metadata": {
        "colab": {
          "base_uri": "https://localhost:8080/"
        },
        "id": "N536L0lD30V0",
        "outputId": "8566a8af-7891-40e0-dcd5-3256505132ab"
      },
      "execution_count": null,
      "outputs": [
        {
          "output_type": "stream",
          "name": "stdout",
          "text": [
            "Nama idola saya adalah Affan Faisal .Usianya adalah 15 tahun.\n"
          ]
        }
      ]
    },
    {
      "cell_type": "code",
      "source": [
        "(\"Nama idola saya adalah \"+nama_idola+\".Usianya adalah \"+str(usia)+\" tahun.\")"
      ],
      "metadata": {
        "colab": {
          "base_uri": "https://localhost:8080/",
          "height": 35
        },
        "id": "vyis58rC5VP5",
        "outputId": "ff0b1591-dc58-4b1a-956a-c65357d08a1b"
      },
      "execution_count": null,
      "outputs": [
        {
          "output_type": "execute_result",
          "data": {
            "text/plain": [
              "'Nama idola saya adalah Affan Faisal.Usianya adalah 15 tahun.'"
            ],
            "application/vnd.google.colaboratory.intrinsic+json": {
              "type": "string"
            }
          },
          "metadata": {},
          "execution_count": 10
        }
      ]
    },
    {
      "cell_type": "code",
      "source": [
        "print(f\"Nama idola saya adalah {nama_idola}.Usianya adalah {usia} tahun\")"
      ],
      "metadata": {
        "colab": {
          "base_uri": "https://localhost:8080/"
        },
        "id": "HBBfwRPx5_P0",
        "outputId": "1d430027-0d86-4280-a505-da69df380936"
      },
      "execution_count": null,
      "outputs": [
        {
          "output_type": "stream",
          "name": "stdout",
          "text": [
            "Nama idola saya adalah Affan Faisal.Usianya adalah 15 tahun\n"
          ]
        }
      ]
    },
    {
      "cell_type": "markdown",
      "source": [
        "#Escape String"
      ],
      "metadata": {
        "id": "wXf5NViFBxeV"
      }
    },
    {
      "cell_type": "code",
      "source": [
        "print(\"Nama: Nasa Tsania Putri Azzahra\")\n",
        "print(\"Kelas: X.1\")\n",
        "print(\"No. Absen: 21\")"
      ],
      "metadata": {
        "colab": {
          "base_uri": "https://localhost:8080/"
        },
        "id": "Jt5Guw3x9d3U",
        "outputId": "62c8755a-7fcd-447f-e0e1-22d31c98d8dd"
      },
      "execution_count": null,
      "outputs": [
        {
          "output_type": "stream",
          "name": "stdout",
          "text": [
            "Nama: Nasa Tsania Putri Azzahra\n",
            "Kelas: X.1\n",
            "No. Absen: 21\n"
          ]
        }
      ]
    },
    {
      "cell_type": "code",
      "source": [
        "print(\"Nama: Nasa Tsania Putri Azzahra\\nKelas: X.1\\nNo. Absen: 21\")"
      ],
      "metadata": {
        "colab": {
          "base_uri": "https://localhost:8080/"
        },
        "id": "odzizDgF-Tef",
        "outputId": "c57e4c25-b075-4f5f-cb07-df86ce693979"
      },
      "execution_count": null,
      "outputs": [
        {
          "output_type": "stream",
          "name": "stdout",
          "text": [
            "Nama: Nasa Tsania Putri Azzahra\n",
            "Kelas: X.1\n",
            "No. Absen: 21\n"
          ]
        }
      ]
    },
    {
      "cell_type": "code",
      "source": [
        "print(\"\"\"Nama\\t\\t: Nasa Tsania Putri Azzahra\n",
        "Kelas\\t\\t: X.1\n",
        "No.Absen\\t: 21\"\"\")"
      ],
      "metadata": {
        "colab": {
          "base_uri": "https://localhost:8080/"
        },
        "id": "0T_DQTpT-nM2",
        "outputId": "0841e8e5-d973-44a8-d1c2-61c28ec809d9"
      },
      "execution_count": null,
      "outputs": [
        {
          "output_type": "stream",
          "name": "stdout",
          "text": [
            "Nama\t\t: Nasa Tsania Putri Azzahra\n",
            "Kelas\t\t: X.1\n",
            "No.Absen\t: 21\n"
          ]
        }
      ]
    },
    {
      "cell_type": "code",
      "source": [
        "print(\"Halo Nama Saya Habib Jafar\")"
      ],
      "metadata": {
        "colab": {
          "base_uri": "https://localhost:8080/"
        },
        "id": "DAF9i4U0hikB",
        "outputId": "18927009-25b0-4106-ebfb-879c758356f5"
      },
      "execution_count": null,
      "outputs": [
        {
          "output_type": "stream",
          "name": "stdout",
          "text": [
            "Halo Nama Saya Habib Jafar\n"
          ]
        }
      ]
    },
    {
      "cell_type": "code",
      "source": [
        "print('Halo Nama Saya Habib Jafar')"
      ],
      "metadata": {
        "colab": {
          "base_uri": "https://localhost:8080/"
        },
        "id": "H_jLYsbvhuWM",
        "outputId": "88617cec-b64a-43bc-d46c-9a915b2bdb7b"
      },
      "execution_count": null,
      "outputs": [
        {
          "output_type": "stream",
          "name": "stdout",
          "text": [
            "Halo Nama Saya Habib Jafar\n"
          ]
        }
      ]
    },
    {
      "cell_type": "code",
      "source": [
        "print('Halo Nama Saya Habib Ja\\'far')"
      ],
      "metadata": {
        "colab": {
          "base_uri": "https://localhost:8080/"
        },
        "id": "WO9q0Tubh7Ye",
        "outputId": "076a5b07-86ba-459e-fc5c-f0f772a0d9a2"
      },
      "execution_count": null,
      "outputs": [
        {
          "output_type": "stream",
          "name": "stdout",
          "text": [
            "Halo Nama Saya Habib Ja'far\n"
          ]
        }
      ]
    },
    {
      "cell_type": "code",
      "source": [
        "print (\"Halo Nama Saya Habib Ja'far\")"
      ],
      "metadata": {
        "colab": {
          "base_uri": "https://localhost:8080/"
        },
        "id": "W4vcNnpQiF8X",
        "outputId": "b6a736fa-0dd1-452a-ce30-1df8d24ac5e0"
      },
      "execution_count": null,
      "outputs": [
        {
          "output_type": "stream",
          "name": "stdout",
          "text": [
            "Halo Nama Saya Habib Ja'far\n"
          ]
        }
      ]
    },
    {
      "cell_type": "code",
      "source": [
        "print(\"Bu Shinta berkata,\\\"Tolong fokus ke TV sejenak.\\\"\")"
      ],
      "metadata": {
        "colab": {
          "base_uri": "https://localhost:8080/"
        },
        "id": "gw32_VZQiXG_",
        "outputId": "56fec294-09ef-4bf6-c1a2-c33b5e414c88"
      },
      "execution_count": null,
      "outputs": [
        {
          "output_type": "stream",
          "name": "stdout",
          "text": [
            "Bu Shinta berkata,\"Tolong fokus ke TV sejenak.\"\n"
          ]
        }
      ]
    },
    {
      "cell_type": "code",
      "source": [
        "print('Bu Shinta berkata,\"Tolong fokus ke TV sejenak.')"
      ],
      "metadata": {
        "colab": {
          "base_uri": "https://localhost:8080/"
        },
        "id": "R7qcWNP_il_R",
        "outputId": "618ee781-bad9-4727-dad0-d3d032dd48d8"
      },
      "execution_count": null,
      "outputs": [
        {
          "output_type": "stream",
          "name": "stdout",
          "text": [
            "Bu Shinta berkata,\"Tolong fokus ke TV sejenak.\n"
          ]
        }
      ]
    },
    {
      "cell_type": "code",
      "source": [
        "print(\"Silakan simpan file tugas KKA di folder Local disk D:\\\\MAN Demak\\\\KKA\\\\Tugas\")"
      ],
      "metadata": {
        "colab": {
          "base_uri": "https://localhost:8080/"
        },
        "id": "QvPuDntLi6K2",
        "outputId": "c78a6f5f-6f78-4ebc-bbe1-e2ab54748fb0"
      },
      "execution_count": null,
      "outputs": [
        {
          "output_type": "stream",
          "name": "stdout",
          "text": [
            "Silakan simpan file tugas KKA di folder Local disk D:\\MAN Demak\\KKA\\Tugas\n"
          ]
        }
      ]
    },
    {
      "cell_type": "code",
      "source": [
        "print('Bu Shinta berkata, \"Berikut adalah daftar piket harian kelas X.2 yang disimpan di file D:\\\\MAN Demak\\\\Jadwal Piket.\"\\n\\nSenin\\tSelasa\\tRabu\\nJielo\\tHasbi\\tNaufal\\nAzam\\tA\\'inun\\tNurul\\t')"
      ],
      "metadata": {
        "colab": {
          "base_uri": "https://localhost:8080/"
        },
        "id": "FOOFULGQjY5z",
        "outputId": "c3a6f8fb-56ae-4860-e5ea-6e9b81fb3660"
      },
      "execution_count": null,
      "outputs": [
        {
          "output_type": "stream",
          "name": "stdout",
          "text": [
            "Bu Shinta berkata, \"Berikut adalah daftar piket harian kelas X.2 yang disimpan di file D:\\MAN Demak\\Jadwal Piket.\"\n",
            "\n",
            "Senin\tSelasa\tRabu\n",
            "Jielo\tHasbi\tNaufal\n",
            "Azam\tA'inun\tNurul\t\n"
          ]
        }
      ]
    },
    {
      "cell_type": "markdown",
      "source": [
        "#Parameter Fungsi Print"
      ],
      "metadata": {
        "id": "zuZwxKRRpIkL"
      }
    },
    {
      "cell_type": "code",
      "source": [
        "nama_siswa_1=\"Dias\"\n",
        "nama_siswa_2=\"Disa\"\n",
        "\n",
        "print(nama_siswa_1)\n",
        "print(nama_siswa_2)"
      ],
      "metadata": {
        "colab": {
          "base_uri": "https://localhost:8080/"
        },
        "id": "BW8clTyIpGYn",
        "outputId": "3ebb696c-3d54-4843-95eb-5832e9f398dd"
      },
      "execution_count": null,
      "outputs": [
        {
          "output_type": "stream",
          "name": "stdout",
          "text": [
            "Dias\n",
            "Disa\n"
          ]
        }
      ]
    },
    {
      "cell_type": "code",
      "source": [
        "nama_siswa_1=\"Dias\"\n",
        "nama_siswa_2=\"Disa\"\n",
        "\n",
        "print(nama_siswa_1, end=\" \")\n",
        "print(nama_siswa_2)"
      ],
      "metadata": {
        "colab": {
          "base_uri": "https://localhost:8080/"
        },
        "id": "peY-3KWuqB09",
        "outputId": "c17cad72-759b-413f-e232-f841594416cb"
      },
      "execution_count": null,
      "outputs": [
        {
          "output_type": "stream",
          "name": "stdout",
          "text": [
            "Dias Disa\n"
          ]
        }
      ]
    },
    {
      "cell_type": "code",
      "source": [
        "print(nama_siswa_1, nama_siswa_2)"
      ],
      "metadata": {
        "colab": {
          "base_uri": "https://localhost:8080/"
        },
        "id": "3wulVDPWqmI7",
        "outputId": "1ea30b68-f998-48ae-c3a5-33d07b6ae8d8"
      },
      "execution_count": null,
      "outputs": [
        {
          "output_type": "stream",
          "name": "stdout",
          "text": [
            "Dias Disa\n"
          ]
        }
      ]
    },
    {
      "cell_type": "code",
      "source": [
        "print(nama_siswa_1, nama_siswa_2, sep=\"-\")"
      ],
      "metadata": {
        "colab": {
          "base_uri": "https://localhost:8080/"
        },
        "id": "W2XOa9a1qutw",
        "outputId": "ab1b4759-18be-437b-8894-84d48fdf8030"
      },
      "execution_count": null,
      "outputs": [
        {
          "output_type": "stream",
          "name": "stdout",
          "text": [
            "Dias-Disa\n"
          ]
        }
      ]
    },
    {
      "cell_type": "code",
      "source": [
        "nama_siswa_3 = \"Kinan\"\n",
        "nama_siswa_4 = \"Azka\"\n",
        "nama_siswa_5 = \"Naufal\"\n",
        "nama_siswa_6 = \"Ridho\"\n",
        "\n",
        "print(nama_siswa_6, nama_siswa_3, nama_siswa_5, nama_siswa_4, nama_siswa_4, sep=\"/\")"
      ],
      "metadata": {
        "colab": {
          "base_uri": "https://localhost:8080/"
        },
        "id": "6Bro4gcUq5zE",
        "outputId": "6932dad8-f0ad-47ab-decd-18fe627fe27b"
      },
      "execution_count": null,
      "outputs": [
        {
          "output_type": "stream",
          "name": "stdout",
          "text": [
            "Ridho/Kinan/Naufal/Azka/Azka\n"
          ]
        }
      ]
    },
    {
      "cell_type": "code",
      "source": [
        "print(nama_siswa_4, end=\"*\")\n",
        "print(nama_siswa_4, end=\"*\")\n",
        "print(nama_siswa_5, end=\"*\")\n",
        "print(nama_siswa_3, end=\"*\")\n",
        "print(nama_siswa_6,)"
      ],
      "metadata": {
        "colab": {
          "base_uri": "https://localhost:8080/"
        },
        "id": "8ulLuhjv-k5Z",
        "outputId": "082ce910-ca97-4265-95f9-c3e1f6ce49ac"
      },
      "execution_count": null,
      "outputs": [
        {
          "output_type": "stream",
          "name": "stdout",
          "text": [
            "Azka*Azka*Naufal*Kinan*Ridho\n"
          ]
        }
      ]
    }
  ]
}